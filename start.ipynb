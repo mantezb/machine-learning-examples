{
 "cells": [
  {
   "cell_type": "markdown",
   "metadata": {},
   "source": [
    "<p style=\"font-size:30px; text-align:center\"><b>Machine Learning in Finance</b></p>"
   ]
  },
  {
   "cell_type": "markdown",
   "metadata": {},
   "source": [
    "<div style=\"text-align: right\">(C) <a href=\"https://github.com/niknow\">Nikolai Nowaczyk</a>, <a href=\"https://github.com/Lapsilago\">Jörg Kienitz</a> 2021</div>"
   ]
  },
  {
   "cell_type": "markdown",
   "metadata": {},
   "source": [
    "<style>\n",
    "body {\n",
    "    counter-reset: h1\n",
    "}\n",
    "\n",
    "h1 {\n",
    "    counter-reset: h2\n",
    "}\n",
    "\n",
    "h2 {\n",
    "    counter-reset: h3\n",
    "}\n",
    "\n",
    "h3 {\n",
    "    counter-reset: h4\n",
    "}\n",
    "\n",
    "h1:before {\n",
    "    counter-increment: h1;\n",
    "    content: counter(h1) \". \"\n",
    "}\n",
    "\n",
    "h2:before {\n",
    "    counter-increment: h2;\n",
    "    content: counter(h1) \".\" counter(h2) \". \"\n",
    "}\n",
    "\n",
    "h3:before {\n",
    "    counter-increment: h3;\n",
    "    content: counter(h1) \".\" counter(h2) \".\" counter(h3) \". \"\n",
    "}\n",
    "\n",
    "h4:before {\n",
    "    counter-increment: h4;\n",
    "    content: counter(h1) \".\" counter(h2) \".\" counter(h3) \".\" counter(h4) \". \"\n",
    "}\n",
    "</style>"
   ]
  },
  {
   "cell_type": "markdown",
   "metadata": {},
   "source": [
    "# Regression"
   ]
  },
  {
   "cell_type": "markdown",
   "metadata": {},
   "source": [
    "## [Linear Regression](regression_revisited/regression_revisited.ipynb)\n",
    "A recap of linear regression - a core fundamental of machine learning."
   ]
  },
  {
   "cell_type": "markdown",
   "metadata": {},
   "source": [
    "## [Local Regression](local_regression/local_regression.ipynb)\n",
    "Local regression is a refinement of linear regression that adapts the model at each point of the prediction."
   ]
  },
  {
   "cell_type": "markdown",
   "metadata": {},
   "source": [
    "## [Gaussian Process Regression](gaussian_process_regression/gaussian_process_regression.ipynb)\n",
    "An advanced regression technique that produces not only predictions, but also confidence bounds around them."
   ]
  },
  {
   "cell_type": "markdown",
   "metadata": {},
   "source": [
    "## [Dynamically Controlled Kernel Estimation (DCKE)](dynamically_controlled_kernel_estimation/dynamically_controlled_kernel_estimation.ipynb)\n",
    "A combination of local regression, control variates and Gaussian process regression to estimate conditional expectations. The method is model free, data-driven an particularly suited for financial applications."
   ]
  },
  {
   "cell_type": "markdown",
   "metadata": {},
   "source": [
    "# Neural Network Topologies"
   ]
  },
  {
   "cell_type": "markdown",
   "metadata": {},
   "source": [
    "## [Multilayer Perceptrons (MLP)](neural_network_intro/neural_network_intro_model_setup.ipynb)\n",
    "Introduction to the most common form of artificial neural networks (ANN)."
   ]
  },
  {
   "cell_type": "markdown",
   "metadata": {},
   "source": [
    "## [Long-Term-Short-Term-Memory networks (LSTM)](lstm_intro/lstm_intro.ipynb)\n",
    "Introduction to LSTMs, a popular form of recurrent neural networks (RNNs)."
   ]
  },
  {
   "cell_type": "markdown",
   "metadata": {},
   "source": [
    "# Network Training & Optimization Techniques"
   ]
  },
  {
   "cell_type": "markdown",
   "metadata": {},
   "source": [
    "## [Newton's Method](newton_gradient_backprop/newton.ipynb)\n",
    "A recap of the Newton's method."
   ]
  },
  {
   "cell_type": "markdown",
   "metadata": {},
   "source": [
    "## [Gradient Descent](newton_gradient_backprop/gradient_descent.ipynb)\n",
    "Mathematical foundations and basics of gradient descent."
   ]
  },
  {
   "cell_type": "markdown",
   "metadata": {},
   "source": [
    "## [Backpropagation](newton_gradient_backprop/backpropagation.ipynb)\n",
    "Derivation of the backpropagation algorithm."
   ]
  },
  {
   "cell_type": "markdown",
   "metadata": {},
   "source": [
    "## [Adjoint Method](newton_gradient_backprop/adjoint.ipynb)\n",
    "Relationship between backpropagation and the adjoint method."
   ]
  }
 ],
 "metadata": {
  "kernelspec": {
   "display_name": "heroku",
   "language": "python",
   "name": "heroku"
  },
  "language_info": {
   "codemirror_mode": {
    "name": "ipython",
    "version": 3
   },
   "file_extension": ".py",
   "mimetype": "text/x-python",
   "name": "python",
   "nbconvert_exporter": "python",
   "pygments_lexer": "ipython3",
   "version": "3.6.12"
  },
  "toc": {
   "base_numbering": 1,
   "nav_menu": {},
   "number_sections": true,
   "sideBar": true,
   "skip_h1_title": false,
   "title_cell": "Table of Contents",
   "title_sidebar": "Contents",
   "toc_cell": false,
   "toc_position": {},
   "toc_section_display": true,
   "toc_window_display": false
  }
 },
 "nbformat": 4,
 "nbformat_minor": 2
}
